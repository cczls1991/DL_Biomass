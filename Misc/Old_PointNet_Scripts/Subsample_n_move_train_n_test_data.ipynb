{
 "cells": [
  {
   "cell_type": "code",
   "execution_count": 7,
   "metadata": {},
   "outputs": [],
   "source": [
    "#Purpose of script: Move las files from general folder to train/test folder randomly\n",
    "\n",
    "#Get packages\n",
    "import os\n",
    "import random\n",
    "import shutil\n",
    "\n",
    "#First set up vars\n",
    "source = r'D:\\Romeo_Data\\Lidar_Clipped_to_plots' #Specify source folder\n",
    "dest1 = r'D:\\Romeo_Data\\train' #Specify folders to move files to\n",
    "files = os.listdir(source) #List file names in directory\n",
    "no_of_files = round(len(files) * 0.7) #Get 70% of the files"
   ]
  },
  {
   "cell_type": "code",
   "execution_count": 6,
   "metadata": {},
   "outputs": [],
   "source": [
    "#Move files to training folder\n",
    "for file_name in random.sample(files, no_of_files):\n",
    "    shutil.move(os.path.join(source, file_name), dest1)"
   ]
  },
  {
   "cell_type": "code",
   "execution_count": 8,
   "metadata": {},
   "outputs": [],
   "source": [
    "#Move remaining files to test folder\n",
    "\n",
    "#First set up vars\n",
    "dest2 = r'D:\\Romeo_Data\\test' #Specify folders to move files to\n",
    "files = os.listdir(source) #List remaining file names in directory\n",
    "\n",
    "#Move remaining files\n",
    "for file_name in random.sample(files, no_of_files):\n",
    "    shutil.move(os.path.join(source, file_name), dest2)"
   ]
  }
 ],
 "metadata": {
  "interpreter": {
   "hash": "9a0670d1396b53d710d8199a331178eb5bbdc5c4528bd1178d88486693d46454"
  },
  "kernelspec": {
   "display_name": "Python 3.8.13 ('pt')",
   "language": "python",
   "name": "python3"
  },
  "language_info": {
   "codemirror_mode": {
    "name": "ipython",
    "version": 3
   },
   "file_extension": ".py",
   "mimetype": "text/x-python",
   "name": "python",
   "nbconvert_exporter": "python",
   "pygments_lexer": "ipython3",
   "version": "3.8.13"
  },
  "orig_nbformat": 4
 },
 "nbformat": 4,
 "nbformat_minor": 2
}
