{
 "cells": [
  {
   "cell_type": "markdown",
   "id": "cabf41d8-4ee0-4d13-ac07-02a5abe8c326",
   "metadata": {
    "pycharm": {
     "name": "#%% md\n"
    }
   },
   "source": [
    "This script shows how to load lidar data in python.\n",
    "\n",
    "The laspy library documentation is located here:\n",
    "https://laspy.readthedocs.io/en/latest/#:~:text=%EF%83%81,Python%20API%20via%20Numpy%20Arrays."
   ]
  },
  {
   "cell_type": "code",
   "execution_count": 1,
   "id": "31ef1fab-427f-4029-a6aa-b126f3669700",
   "metadata": {
    "execution": {
     "iopub.execute_input": "2022-06-03T17:50:36.622770Z",
     "iopub.status.busy": "2022-06-03T17:50:36.622770Z",
     "iopub.status.idle": "2022-06-03T17:50:36.776627Z",
     "shell.execute_reply": "2022-06-03T17:50:36.775637Z",
     "shell.execute_reply.started": "2022-06-03T17:50:36.622770Z"
    },
    "tags": [],
    "pycharm": {
     "name": "#%%\n"
    }
   },
   "outputs": [
    {
     "name": "stdout",
     "output_type": "stream",
     "text": [
      "<LasData(1.4, point fmt: <PointFormat(1, 4 bytes of extra dims)>, 6769 points, 2 vlrs)>\n",
      "<ScaleAwarePointRecord(fmt: <PointFormat(1, 4 bytes of extra dims)>, len: 6769, point size: 32)>\n",
      "[DimensionInfo(name='X', kind=<DimensionKind.SignedInteger: 0>, num_bits=32, num_elements=1, is_standard=True, description='', offsets=None, scales=None), DimensionInfo(name='Y', kind=<DimensionKind.SignedInteger: 0>, num_bits=32, num_elements=1, is_standard=True, description='', offsets=None, scales=None), DimensionInfo(name='Z', kind=<DimensionKind.SignedInteger: 0>, num_bits=32, num_elements=1, is_standard=True, description='', offsets=None, scales=None), DimensionInfo(name='intensity', kind=<DimensionKind.UnsignedInteger: 1>, num_bits=16, num_elements=1, is_standard=True, description='', offsets=None, scales=None), DimensionInfo(name='return_number', kind=<DimensionKind.BitField: 3>, num_bits=3, num_elements=1, is_standard=True, description='', offsets=None, scales=None), DimensionInfo(name='number_of_returns', kind=<DimensionKind.BitField: 3>, num_bits=3, num_elements=1, is_standard=True, description='', offsets=None, scales=None), DimensionInfo(name='scan_direction_flag', kind=<DimensionKind.BitField: 3>, num_bits=1, num_elements=1, is_standard=True, description='', offsets=None, scales=None), DimensionInfo(name='edge_of_flight_line', kind=<DimensionKind.BitField: 3>, num_bits=1, num_elements=1, is_standard=True, description='', offsets=None, scales=None), DimensionInfo(name='classification', kind=<DimensionKind.BitField: 3>, num_bits=5, num_elements=1, is_standard=True, description='', offsets=None, scales=None), DimensionInfo(name='synthetic', kind=<DimensionKind.BitField: 3>, num_bits=1, num_elements=1, is_standard=True, description='', offsets=None, scales=None), DimensionInfo(name='key_point', kind=<DimensionKind.BitField: 3>, num_bits=1, num_elements=1, is_standard=True, description='', offsets=None, scales=None), DimensionInfo(name='withheld', kind=<DimensionKind.BitField: 3>, num_bits=1, num_elements=1, is_standard=True, description='', offsets=None, scales=None), DimensionInfo(name='scan_angle_rank', kind=<DimensionKind.SignedInteger: 0>, num_bits=8, num_elements=1, is_standard=True, description='', offsets=None, scales=None), DimensionInfo(name='user_data', kind=<DimensionKind.UnsignedInteger: 1>, num_bits=8, num_elements=1, is_standard=True, description='', offsets=None, scales=None), DimensionInfo(name='point_source_id', kind=<DimensionKind.UnsignedInteger: 1>, num_bits=16, num_elements=1, is_standard=True, description='', offsets=None, scales=None), DimensionInfo(name='gps_time', kind=<DimensionKind.FloatingPoint: 2>, num_bits=64, num_elements=1, is_standard=True, description='', offsets=None, scales=None), DimensionInfo(name='NormalizedZ', kind=<DimensionKind.FloatingPoint: 2>, num_bits=32, num_elements=1, is_standard=False, description='normalized height value', offsets=None, scales=None)]\n"
     ]
    }
   ],
   "source": [
    "#Testing on one las\n",
    "import laspy #Import the laspy library into python\n",
    "import numpy as np #Import the numpy module\n",
    "\n",
    "#Set which nth point to select ( in this case, every point)\n",
    "useevery = 1\n",
    "\n",
    "# read the las file\n",
    "inFile = laspy.read(r\"C:\\Users\\hseely\\OneDrive - UBC\\Documents\\Jupyter_Lab_Workspace\\Lukas_DL_Regression_Example\\test\\tile_298020_5093300.laz\")\n",
    "\n",
    "#Check out the object and property info\n",
    "print(inFile)\n",
    "print(inFile.points)\n",
    "print(inFile.points.point_format.dimensions)"
   ]
  },
  {
   "cell_type": "code",
   "execution_count": 2,
   "id": "5ae9bda4-0eb1-414e-a0d5-1fc43955b7b5",
   "metadata": {
    "execution": {
     "iopub.execute_input": "2022-06-03T17:50:40.019265Z",
     "iopub.status.busy": "2022-06-03T17:50:40.019265Z",
     "iopub.status.idle": "2022-06-03T17:50:40.042165Z",
     "shell.execute_reply": "2022-06-03T17:50:40.041170Z",
     "shell.execute_reply.started": "2022-06-03T17:50:40.019265Z"
    },
    "tags": [],
    "pycharm": {
     "name": "#%%\n"
    }
   },
   "outputs": [],
   "source": [
    "# get the coordinates (XYZ)\n",
    "#vstack() stacks arrays row-wise (vertically) > see: https://numpy.org/doc/stable/reference/generated/numpy.vstack.html\n",
    "#.transpose flips the array such that the rows are now columns\n",
    "coords = np.vstack((inFile.x, inFile.y, inFile.z)).transpose()\n",
    "coords = coords[::useevery, :] # The \"::\" indictaes a slice for the variable which gets every nth point (indicated by the object \"useevery\")\n",
    "    \n",
    "#retrieve additional attributes from the las file\n",
    "las_fields = [info.name for info in inFile.points.point_format.dimensions]\n",
    "attributes = {}\n",
    "\n",
    "for las_field in las_fields[3:]: # skip the X,Y,Z fields\n",
    "    attributes[las_field] = inFile.points[las_field][::useevery]\n",
    "    \n",
    "    \n",
    "    \n",
    "    "
   ]
  }
 ],
 "metadata": {
  "kernelspec": {
   "display_name": "Python 3 (ipykernel)",
   "language": "python",
   "name": "python3"
  },
  "language_info": {
   "codemirror_mode": {
    "name": "ipython",
    "version": 3
   },
   "file_extension": ".py",
   "mimetype": "text/x-python",
   "name": "python",
   "nbconvert_exporter": "python",
   "pygments_lexer": "ipython3",
   "version": "3.8.13"
  }
 },
 "nbformat": 4,
 "nbformat_minor": 5
}