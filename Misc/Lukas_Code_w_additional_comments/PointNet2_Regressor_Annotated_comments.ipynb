{
 "cells": [
  {
   "cell_type": "markdown",
   "id": "98ef1f80-8ce4-487a-94d0-028e2e1b3299",
   "metadata": {},
   "source": [
    "Explaining Lukas Point Net ++ Regression Model Code"
   ]
  },
  {
   "cell_type": "code",
   "execution_count": 1,
   "id": "dddc88bc-f825-4df8-8307-e5c9f99a4069",
   "metadata": {
    "execution": {
     "iopub.execute_input": "2022-06-06T16:46:25.831533Z",
     "iopub.status.busy": "2022-06-06T16:46:25.830541Z",
     "iopub.status.idle": "2022-06-06T16:46:27.969017Z",
     "shell.execute_reply": "2022-06-06T16:46:27.967029Z",
     "shell.execute_reply.started": "2022-06-06T16:46:25.831533Z"
    },
    "tags": []
   },
   "outputs": [],
   "source": [
    "import torch #Import torch package\n",
    "#Get required DL packages from pytorch geometric\n",
    "#https://pytorch-geometric.readthedocs.io/en/latest/\n",
    "from torch_geometric.nn import MLP, knn_interpolate, PointConv, global_max_pool, fps, radius"
   ]
  },
  {
   "cell_type": "code",
   "execution_count": null,
   "id": "ecd83aba-89db-4013-adf3-93e285b32866",
   "metadata": {},
   "outputs": [],
   "source": [
    "#Create Set Abstraction Module for use in PointNet\n",
    "class SAModule(torch.nn.Module): #torch.nn.Module is a base class for all neural network modules\n",
    "    def __init__(self, ratio, r, nn): #Using __init__ to establish parameters for class instances\n",
    "        #We define the layers of the network in the __init__ function  \n",
    "         \"\"\"\n",
    "        In the constructor we instantiate parameters and assign them as\n",
    "        member parameters.\n",
    "        \"\"\"\n",
    "        super().__init__() #super() gives access to methods and properties of a parent or sibling class.\n",
    "        self.ratio = ratio #Establish ratio as a parameter in __init__\n",
    "        self.r = r #Add r as parameter in __init__\n",
    "        self.conv = PointConv(nn, add_self_loops=False) #Add PointNet architecture \n",
    "\n",
    "    def forward(self, x, pos, batch):\n",
    "         \"\"\"\n",
    "        In the forward function we accept a Tensor of input data and we must return\n",
    "        a Tensor of output data. We can use Modules defined in the constructor as\n",
    "        well as arbitrary operators on Tensors. \n",
    "        Essentially, we specify how data will pass through the network.\n",
    "        \"\"\"\n",
    "        idx = fps(pos, batch, ratio=self.ratio) # fps(): furthers point sampling function from PointNet++, iteratively samples most distant points with regard to rest of the points\n",
    "        row, col = radius(pos, pos[idx], self.r, batch, batch[idx], # radius(): Finds for each element in y (pos[idx]) all points in x (pos) within distance r\n",
    "                          max_num_neighbors=64) #reduce to 64 points as neighbors\n",
    "        edge_index = torch.stack([col, row], dim=0) #QUESTION: what is edge_index?\n",
    "        x_dst = None if x is None else x[idx] #Specify x distance if x exists (not sure exactly what is happening)\n",
    "        x = self.conv((x, x_dst), (pos, pos[idx]), edge_index)\n",
    "        pos, batch = pos[idx], batch[idx]\n",
    "        return x, pos, batch\n",
    "\n",
    "class GlobalSAModule(torch.nn.Module): #Creating a global model to predict a single value \n",
    "    def __init__(self, nn):\n",
    "        super().__init__()\n",
    "        self.nn = nn\n",
    "\n",
    "    def forward(self, x, pos, batch):\n",
    "        x = self.nn(torch.cat([x, pos], dim=1)) #torch.cat(): Concatenates input tensors for the given dimension\n",
    "        x = global_max_pool(x, batch) #Max pooling function to aggregate tensors to a single prediction\n",
    "        pos = pos.new_zeros((x.size(0), 3)) #torch.Tensor.new_zeroes(): returns a tensor of a given size containing zeroes\n",
    "        batch = torch.arange(x.size(0), device=batch.device) #torch.arrange(): returns a 1D tensor of size (end-start)/step; \n",
    "        #size() provides the total number of elements in an array\n",
    "        return x, pos, batch #Not sure what these returned objects describe\n",
    "\n",
    "class FPModule(torch.nn.Module): #What does FP stand for\n",
    "    def __init__(self, k, nn):\n",
    "        super().__init__()\n",
    "        self.k = k\n",
    "        self.nn = nn\n",
    "\n",
    "    def forward(self, x, pos, batch, x_skip, pos_skip, batch_skip):\n",
    "        x = knn_interpolate(x, pos, pos_skip, batch, batch_skip, k=self.k)\n",
    "        if x_skip is not None:\n",
    "            x = torch.cat([x, x_skip], dim=1)\n",
    "        x = self.nn(x)\n",
    "        return x, pos_skip, batch_skip\n",
    "\n",
    "\n",
    "class Net(torch.nn.Module):\n",
    "    def __init__(self, num_features):\n",
    "        super().__init__()\n",
    "\n",
    "        # Input channels account for both `pos` and node features.\n",
    "        #The torch geometric MLP() function creates a multilayer perceptron model with various input channel, hidden channel, output channel, and layers sizes\n",
    "        self.sa1_module = SAModule(0.2, 2, MLP([3 + num_features, 64, 64, 128]))\n",
    "        self.sa2_module = SAModule(0.25, 8, MLP([128 + 3, 128, 128, 256]))\n",
    "        self.sa3_module = GlobalSAModule(MLP([256 + 3, 256, 512, 1024]))\n",
    "\n",
    "        self.fp3_module = FPModule(1, MLP([1024 + 256, 256, 256]))\n",
    "        self.fp2_module = FPModule(3, MLP([256 + 128, 256, 128]))\n",
    "        self.fp1_module = FPModule(3, MLP([128 + num_features, 128, 128, 128]))\n",
    "\n",
    "        self.mlp = MLP([128, 128, 128, 1], dropout=0.5,\n",
    "                       batch_norm=False)\n",
    "\n",
    "    def forward(self, data):\n",
    "        sa0_out = (data.x, data.pos, data.batch)\n",
    "        sa1_out = self.sa1_module(*sa0_out) #*identifier is initialized to a tuple receiving any excess positional parameters, defaulting to the empty tuple\n",
    "        sa2_out = self.sa2_module(*sa1_out)\n",
    "        sa3_out = self.sa3_module(*sa2_out)\n",
    "\n",
    "        fp3_out = self.fp3_module(*sa3_out, *sa2_out)\n",
    "        fp2_out = self.fp2_module(*fp3_out, *sa1_out)\n",
    "        x, _, _ = self.fp1_module(*fp2_out, *sa0_out)\n",
    "\n",
    "        return self.mlp(x)\n",
    "        "
   ]
  }
 ],
 "metadata": {
  "kernelspec": {
   "display_name": "Python 3 (ipykernel)",
   "language": "python",
   "name": "python3"
  },
  "language_info": {
   "codemirror_mode": {
    "name": "ipython",
    "version": 3
   },
   "file_extension": ".py",
   "mimetype": "text/x-python",
   "name": "python",
   "nbconvert_exporter": "python",
   "pygments_lexer": "ipython3",
   "version": "3.8.13"
  }
 },
 "nbformat": 4,
 "nbformat_minor": 5
}
