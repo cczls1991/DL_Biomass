{
 "cells": [
  {
   "cell_type": "markdown",
   "id": "b0e74a80-04e0-4177-98f4-b8835151c692",
   "metadata": {},
   "source": [
    "The purpose of this annotated script is to explain Lukas code line by line."
   ]
  },
  {
   "cell_type": "code",
   "execution_count": null,
   "id": "12a7144b-2778-42e0-b442-3d78bad16714",
   "metadata": {},
   "outputs": [],
   "source": [
    "#First, let's load and check out the lidar data\n",
    "\n",
    "#Load 1 tile of the training data and check it out"
   ]
  }
 ],
 "metadata": {
  "kernelspec": {
   "display_name": "Python 3 (ipykernel)",
   "language": "python",
   "name": "python3"
  },
  "language_info": {
   "codemirror_mode": {
    "name": "ipython",
    "version": 3
   },
   "file_extension": ".py",
   "mimetype": "text/x-python",
   "name": "python",
   "nbconvert_exporter": "python",
   "pygments_lexer": "ipython3",
   "version": "3.8.13"
  }
 },
 "nbformat": 4,
 "nbformat_minor": 5
}
