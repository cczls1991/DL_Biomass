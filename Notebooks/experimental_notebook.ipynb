{
 "cells": [
  {
   "cell_type": "code",
   "execution_count": 43,
   "metadata": {
    "collapsed": true,
    "pycharm": {
     "name": "#%%\n"
    }
   },
   "outputs": [
    {
     "data": {
      "text/plain": "<Figure size 432x288 with 1 Axes>",
      "image/png": "[encoded data removed]"
     },
     "metadata": {
      "needs_background": "light"
     },
     "output_type": "display_data"
    }
   ],
   "source": [
    "import pandas as pd\n",
    "import os.path\n",
    "import glob\n",
    "import matplotlib.pyplot as plt\n",
    "import matplotlib.patches as mpatches\n",
    "\n",
    "#Plotting change in training and val MSE over time\n",
    "if __name__ == '__main__':\n",
    "\n",
    "    #Load most recent set of training data\n",
    "    folder_path = r'D:\\Sync\\DL_Development\\Models'\n",
    "    file_type = r'\\*.csv'\n",
    "    files = glob.glob(folder_path + file_type)\n",
    "    training_data = max(files, key=os.path.getctime)\n",
    "    training_data = pd.read_csv(training_data, sep=\",\", header=None)\n",
    "    training_data.columns = ['epoch', 'train_mse', 'val_mse']\n",
    "\n",
    "    #Plot the change in training and validation mse over time\n",
    "    fig,ax=plt.subplots()\n",
    "    ax.plot(training_data[\"epoch\"], training_data[\"train_mse\"],color=\"blue\",marker = \"o\")\n",
    "    ax.set_xlabel(\"Epoch\")\n",
    "    ax.set_ylabel(\"MSE\")\n",
    "    ax.plot(training_data[\"epoch\"], training_data[\"val_mse\"],color=\"red\",marker=\"o\")\n",
    "    red_patch = mpatches.Patch(color='red', label='Validation')\n",
    "    blue_patch = mpatches.Patch(color='blue', label='Training')\n",
    "    plt.legend(handles=[red_patch, blue_patch])"
   ]
  },
  {
   "cell_type": "code",
   "execution_count": null,
   "outputs": [],
   "source": [
    "#Testing model and plotting results\n",
    "\n",
    "\n",
    "import os.path\n",
    "import glob\n",
    "import torch\n",
    "from torch_geometric.loader import DataLoader\n",
    "from pointcloud_dataset_biomass_adapted_V2 import PointCloudsInFiles\n",
    "from datetime import datetime as dt\n",
    "from torch.utils.tensorboard import SummaryWriter\n",
    "import matplotlib.pyplot as plt\n",
    "\n",
    "\n",
    "if __name__ == '__main__':\n",
    "\n",
    "    # SETUP PARAMETERS\n",
    "    model_path = rf'D:\\Sync\\DL_Development\\Models\\DL_model_{dt.now().strftime(\"%Y_%m_%d_%H_%M_%S\")}.model'\n",
    "    use_columns = ['intensity_normalized']\n",
    "    num_points = 10_000\n",
    "    augment = True\n",
    "    num_augs = 2\n",
    "    batch_size = 4\n",
    "    num_epochs = 2\n",
    "    writer = SummaryWriter(comment=\"_10000_points_lr_0.0001_batch_size_1\")\n",
    "    train_dataset_path = r'D:\\Sync\\Romeo_Data\\train'\n",
    "    val_dataset_path = r'D:\\Sync\\Romeo_Data\\val'\n",
    "\n",
    "    device = torch.device('cuda' if torch.cuda.is_available() else 'cpu')\n",
    "\n",
    "    #Load most recent model\n",
    "    folder_path = r'D:\\Sync\\DL_Development\\Models'\n",
    "    file_type = r'\\*.model'\n",
    "    files = glob.glob(folder_path + file_type)\n",
    "    max_file = max(files, key=os.path.getctime)\n",
    "    model = torch.load(os.path.join(folder_path, max_file))\n",
    "    print(\"Using model:\", max_file)\n",
    "\n",
    "    # Get test data\n",
    "    test_dataset = PointCloudsInFiles(r\"D:\\Sync\\Romeo_Data\\test\", '*.las', max_points=num_points, use_columns=use_columns,\n",
    "                                      filter_ground=True, filter_height=1.3)\n",
    "\n",
    "    test_loader = DataLoader(test_dataset, batch_size=len(test_dataset), shuffle=False, num_workers=0)\n",
    "\n",
    "    #Load most recent model\n",
    "    folder_path = r'D:\\Sync\\DL_Development\\Models'\n",
    "    file_type = r'\\*.model'\n",
    "    files = glob.glob(folder_path + file_type)\n",
    "    max_file = max(files, key=os.path.getctime)\n",
    "    model = torch.load(max_file)\n",
    "    print(\"Using model:\", max_file)\n",
    "\n",
    "    # Get test data\n",
    "    test_dataset = PointCloudsInFiles(r\"D:\\Sync\\Romeo_Data\\test\", '*.las', max_points=num_points, use_columns=use_columns,\n",
    "                                      filter_ground=True, filter_height=1.3)\n",
    "\n",
    "    test_loader = DataLoader(test_dataset, batch_size=len(test_dataset), shuffle=False, num_workers=0)\n",
    "\n",
    "    model.eval()\n",
    "    for idx, data in enumerate(test_loader):\n",
    "         data = data.to(device)\n",
    "    pred = model(data)[:, 0].to('cpu').detach().numpy()\n",
    "    obs = data.y.to('cpu').detach().numpy()\n",
    "\n",
    "\n",
    "    #Get residuals\n",
    "    resid = obs - pred\n",
    "\n",
    "    #Plot predicted vs. observed values\n",
    "\n",
    "    #Plot observed vs. predicted\n",
    "    f, (ax1, ax2) = plt.subplots(2, 1)\n",
    "    ax1.scatter(obs, pred)\n",
    "    ax1.set(xlabel='Observed Biomass (Tons)', ylabel='Predicted Biomass (Tons)')\n",
    "\n",
    "    #Plot residuals\n",
    "    ax2.scatter(pred, resid)\n",
    "    ax2.set(xlabel='Predicted Biomass (Tons)', ylabel='Residuals')\n",
    "\n",
    "    # set the spacing between subplots\n",
    "    plt.subplots_adjust(left=0.1,\n",
    "                        bottom=0.1,\n",
    "                        right=0.9,\n",
    "                        top=1.5,\n",
    "                        wspace=0.4,\n",
    "                        hspace=0.4)\n",
    "    plt.show()"
   ],
   "metadata": {
    "collapsed": false,
    "pycharm": {
     "name": "#%%\n"
    }
   }
  },
  {
   "cell_type": "code",
   "execution_count": 4,
   "outputs": [
    {
     "name": "stderr",
     "output_type": "stream",
     "text": [
      "\u001B[32m[I 2022-06-22 16:44:33,610]\u001B[0m A new study created in memory with name: no-name-f3feb08f-5547-4bb1-80f1-e9d6de54abe5\u001B[0m\n",
      "\u001B[32m[I 2022-06-22 16:44:33,622]\u001B[0m Trial 0 finished with value: 0.6551098547563775 and parameters: {'x': 0.8093885684616366}. Best is trial 0 with value: 0.6551098547563775.\u001B[0m\n",
      "\u001B[32m[I 2022-06-22 16:44:33,622]\u001B[0m Trial 1 finished with value: 0.4967576647545796 and parameters: {'x': -0.704810375033299}. Best is trial 1 with value: 0.4967576647545796.\u001B[0m\n",
      "\u001B[32m[I 2022-06-22 16:44:33,630]\u001B[0m Trial 2 finished with value: 0.00036156409763089863 and parameters: {'x': 0.019014838879961582}. Best is trial 2 with value: 0.00036156409763089863.\u001B[0m\n",
      "\u001B[32m[I 2022-06-22 16:44:33,632]\u001B[0m Trial 3 finished with value: 0.02630013999840691 and parameters: {'x': -0.16217317903527362}. Best is trial 2 with value: 0.00036156409763089863.\u001B[0m\n",
      "\u001B[32m[I 2022-06-22 16:44:33,632]\u001B[0m Trial 4 finished with value: 0.004564450684703719 and parameters: {'x': 0.06756071850345968}. Best is trial 2 with value: 0.00036156409763089863.\u001B[0m\n"
     ]
    },
    {
     "name": "stdout",
     "output_type": "stream",
     "text": [
      "   number     value             datetime_start          datetime_complete  \\\n",
      "0       0  0.655110 2022-06-22 16:44:33.621464 2022-06-22 16:44:33.622627   \n",
      "1       1  0.496758 2022-06-22 16:44:33.622627 2022-06-22 16:44:33.622627   \n",
      "2       2  0.000362 2022-06-22 16:44:33.622627 2022-06-22 16:44:33.622627   \n",
      "3       3  0.026300 2022-06-22 16:44:33.630675 2022-06-22 16:44:33.632709   \n",
      "4       4  0.004564 2022-06-22 16:44:33.632709 2022-06-22 16:44:33.632709   \n",
      "\n",
      "                duration  params_x     state  \n",
      "0 0 days 00:00:00.001163  0.809389  COMPLETE  \n",
      "1        0 days 00:00:00 -0.704810  COMPLETE  \n",
      "2        0 days 00:00:00  0.019015  COMPLETE  \n",
      "3 0 days 00:00:00.002034 -0.162173  COMPLETE  \n",
      "4        0 days 00:00:00  0.067561  COMPLETE  \n"
     ]
    }
   ],
   "source": [
    "import optuna\n",
    "import pandas\n",
    "from datetime import datetime as dt\n",
    "n_trials = 5\n",
    "\n",
    "def objective(trial):\n",
    "    x = trial.suggest_float(\"x\", -1, 1)\n",
    "    return x ** 2\n",
    "\n",
    "\n",
    "study = optuna.create_study()\n",
    "study.optimize(objective, n_trials=n_trials)\n",
    "\n",
    "# Create a dataframe from the study.\n",
    "df = study.trials_dataframe()\n",
    "assert isinstance(df, pandas.DataFrame)\n",
    "print(df)\n",
    "t_now = dt.now().strftime(\"%Y_%m_%d_%H_%M_%S\")\n",
    "df.to_excel(rf\"D:\\Sync\\DL_Development\\Hyperparameter_Tuning\\Hyperparameter_tuning_results_{t_now}_.xlsx\")"
   ],
   "metadata": {
    "collapsed": false,
    "pycharm": {
     "name": "#%%\n"
    }
   }
  }
 ],
 "metadata": {
  "kernelspec": {
   "display_name": "Python 3",
   "language": "python",
   "name": "python3"
  },
  "language_info": {
   "codemirror_mode": {
    "name": "ipython",
    "version": 2
   },
   "file_extension": ".py",
   "mimetype": "text/x-python",
   "name": "python",
   "nbconvert_exporter": "python",
   "pygments_lexer": "ipython2",
   "version": "2.7.6"
  }
 },
 "nbformat": 4,
 "nbformat_minor": 0
}